{
 "cells": [
  {
   "cell_type": "markdown",
   "metadata": {},
   "source": [
    "Before you turn this problem in, make sure everything runs as expected. First, **restart the kernel** (in the menubar, select Kernel$\\rightarrow$Restart) and then **run all cells** (in the menubar, select Cell$\\rightarrow$Run All).\n",
    "\n",
    "Make sure you fill in any place that says `YOUR CODE HERE` or \"YOUR ANSWER HERE\", as well as your name and collaborators below:"
   ]
  },
  {
   "cell_type": "code",
   "execution_count": null,
   "metadata": {},
   "outputs": [],
   "source": [
    "NAME = \"\"\n",
    "COLLABORATORS = \"\""
   ]
  },
  {
   "cell_type": "markdown",
   "metadata": {},
   "source": [
    "---"
   ]
  },
  {
   "cell_type": "code",
   "execution_count": null,
   "metadata": {},
   "outputs": [],
   "source": [
    "from __future__ import print_function\n",
    "%matplotlib inline\n",
    "%precision 16\n",
    "import numpy\n",
    "import matplotlib.pyplot as plt\n",
    "from scipy.integrate import solve_ivp"
   ]
  },
  {
   "cell_type": "markdown",
   "metadata": {
    "deletable": false,
    "editable": false,
    "nbgrader": {
     "cell_type": "markdown",
     "checksum": "52df01fb12acbe1ce082e18a61121fdd",
     "grade": false,
     "grade_id": "cell-6282430347078978",
     "locked": true,
     "schema_version": 3,
     "solution": false
    }
   },
   "source": [
    "# HW 6b:  ODE Methods - Initial Value Problems - Stability and Stiffness\n",
    "\n"
   ]
  },
  {
   "cell_type": "markdown",
   "metadata": {
    "deletable": false,
    "editable": false,
    "nbgrader": {
     "cell_type": "markdown",
     "checksum": "e5f93c4b2358a05be1c26dcdb266aa60",
     "grade": false,
     "grade_id": "cell-2047079622555095",
     "locked": true,
     "schema_version": 3,
     "solution": false
    }
   },
   "source": [
    "## Question 1 - Absolute Stability Regions and Order Stars"
   ]
  },
  {
   "cell_type": "markdown",
   "metadata": {
    "deletable": false,
    "editable": false,
    "nbgrader": {
     "cell_type": "markdown",
     "checksum": "62fb207ff5032cbc3deefedbd06be323",
     "grade": false,
     "grade_id": "cell-6f7dafc5afdee9c3",
     "locked": true,
     "schema_version": 3,
     "solution": false,
     "task": false
    }
   },
   "source": [
    "**(a)** [10] Single Step Schemes:\n",
    "    \n",
    "Derive $R(z)$ for the following single step schemes\n",
    "* 2nd order Taylor Series method\n",
    "* 4th order Taylor Series method\n",
    "* RK2\n",
    "* RK4\n",
    "\n",
    "and comment on your solutions."
   ]
  },
  {
   "cell_type": "markdown",
   "metadata": {
    "deletable": false,
    "nbgrader": {
     "cell_type": "markdown",
     "checksum": "548cee6a61209fd3134eb361631f261e",
     "grade": true,
     "grade_id": "cell-383d09f14c93cb0a",
     "locked": false,
     "points": 10,
     "schema_version": 3,
     "solution": true,
     "task": false
    }
   },
   "source": [
    "YOUR ANSWER HERE"
   ]
  },
  {
   "cell_type": "markdown",
   "metadata": {
    "deletable": false,
    "editable": false,
    "nbgrader": {
     "cell_type": "markdown",
     "checksum": "c3982cf4d799736713e65d29c03d0fcd",
     "grade": false,
     "grade_id": "cell-5920515712744019",
     "locked": true,
     "schema_version": 3,
     "solution": false
    }
   },
   "source": [
    "**(b)** [8] Plot the regions of absolute stability for  Taylor Series methods of order 2-5\n",
    "\n",
    "You may use the plotting code from the course notes"
   ]
  },
  {
   "cell_type": "code",
   "execution_count": null,
   "metadata": {
    "deletable": false,
    "nbgrader": {
     "cell_type": "code",
     "checksum": "5b1fd4696fffdf88b8abc1e411a980b0",
     "grade": true,
     "grade_id": "cell-5969906060668205",
     "locked": false,
     "points": 8,
     "schema_version": 3,
     "solution": true
    }
   },
   "outputs": [],
   "source": [
    "# YOUR CODE HERE\n",
    "raise NotImplementedError()"
   ]
  },
  {
   "cell_type": "markdown",
   "metadata": {
    "deletable": false,
    "editable": false,
    "nbgrader": {
     "cell_type": "markdown",
     "checksum": "13e8e15731f0f36ea3b078eaaeffc4f4",
     "grade": false,
     "grade_id": "cell-4121425d11d77b4d",
     "locked": true,
     "schema_version": 3,
     "solution": false,
     "task": false
    }
   },
   "source": [
    "**(c)** [12] Linear Multi-Step schemes\n",
    "\n",
    "Calculate the stability polynomial and plot the stability regions for\n",
    "1. 3-step and 4-step Adams-Basforth methods, and\n",
    "1. 3-step and 4-step Adams-Moulton methods.\n",
    "\n",
    "\n",
    "And comment on the relative size of the stability regions for $RK4$, $AB4$ and $AM4$.\n",
    "You may use the plotting code from the course notes"
   ]
  },
  {
   "cell_type": "markdown",
   "metadata": {
    "deletable": false,
    "nbgrader": {
     "cell_type": "markdown",
     "checksum": "1202103d78640cfd21eee2bcdc6bbbe4",
     "grade": true,
     "grade_id": "cell-56a9e125448bcd9b",
     "locked": false,
     "points": 8,
     "schema_version": 3,
     "solution": true,
     "task": false
    }
   },
   "source": [
    "YOUR ANSWER HERE"
   ]
  },
  {
   "cell_type": "code",
   "execution_count": null,
   "metadata": {
    "deletable": false,
    "nbgrader": {
     "cell_type": "code",
     "checksum": "4b03534b87811daf1e125be624e3d73a",
     "grade": true,
     "grade_id": "cell-0030a41032d099c5",
     "locked": false,
     "points": 4,
     "schema_version": 3,
     "solution": true,
     "task": false
    }
   },
   "outputs": [],
   "source": [
    "# YOUR CODE HERE\n",
    "raise NotImplementedError()"
   ]
  },
  {
   "cell_type": "markdown",
   "metadata": {
    "deletable": false,
    "editable": false,
    "nbgrader": {
     "cell_type": "markdown",
     "checksum": "c5be0238868c770ca3f5c3a55094e5e5",
     "grade": false,
     "grade_id": "cell-8157364478112189",
     "locked": true,
     "schema_version": 3,
     "solution": false
    }
   },
   "source": [
    "**(d)** [8] The region of absolute stability as defined ensures that the error does not grow in subsequent time-steps hence why we require $|R(z)| < 1$.  In reality what we really want is that the errors decay faster than the solution or that it grows slower than the true solution.  Consider the solution of an ODE $u(t) = e^{\\lambda t}$, if $\\lambda < 0$ then we want our errors made at each time step $E^n$ to decay faster than $e^{\\lambda t}$ so that $|E^n| < e^{\\lambda t}$.  Conversely if $\\lambda > 0$ then we might also want $|E^n| < e^{\\lambda t}$.  This suggests a new definition of stability, called the **relative stability** defined as\n",
    "\n",
    "$$|R(z)| \\leq |e^z|.$$\n",
    "\n",
    "These turn out to be difficult to plot but proved pivotal due to work in 1978 by Wanner, Hairer and Nørset.  More recently a new set of regions, called **order stars**, have become more popular to consider.  These are defined as the three regions\n",
    "\n",
    "$$\\begin{aligned}\n",
    "    \\mathcal{A}_{-} &= \\{ z \\in \\mathbb{C}: |R(z)| < |e^z| \\} = \\{z \\in \\mathbb{C}: |e^{-z} R(z)| < 1\\}, \\\\ \n",
    "    \\mathcal{A}_{0} &= \\{ z \\in \\mathbb{C}: |R(z)| = |e^z| \\} = \\{z \\in \\mathbb{C}: |e^{-z} R(z)| = 1\\}, ~~~~\\text{and} \\\\\n",
    "    \\mathcal{A}_{+} &= \\{ z \\in \\mathbb{C}: |R(z)| > |e^z| \\} = \\{z \\in \\mathbb{C}: |e^{-z} R(z)| > 1\\}.\n",
    "\\end{aligned}$$\n",
    "\n",
    "Modify your plotting routines above to plot order stars and identify all of the different regimes for the Taylor series methods asked for in part (a).  Do you see any relation to the number of \"fingers\" and the order of the method?"
   ]
  },
  {
   "cell_type": "code",
   "execution_count": null,
   "metadata": {
    "deletable": false,
    "nbgrader": {
     "cell_type": "code",
     "checksum": "0d8d9ba973597fa0ca5256faf15a875c",
     "grade": true,
     "grade_id": "cell-7e8a9aa66693eefc",
     "locked": false,
     "points": 4,
     "schema_version": 3,
     "solution": true,
     "task": false
    }
   },
   "outputs": [],
   "source": [
    "# YOUR CODE HERE\n",
    "raise NotImplementedError()"
   ]
  },
  {
   "cell_type": "markdown",
   "metadata": {
    "deletable": false,
    "nbgrader": {
     "cell_type": "markdown",
     "checksum": "f4cea077ac04ec956e558cdf12aecf75",
     "grade": true,
     "grade_id": "cell-9619b0dd4bc34c29",
     "locked": false,
     "points": 4,
     "schema_version": 3,
     "solution": true,
     "task": false
    }
   },
   "source": [
    "YOUR ANSWER HERE"
   ]
  },
  {
   "cell_type": "markdown",
   "metadata": {
    "deletable": false,
    "editable": false,
    "nbgrader": {
     "cell_type": "markdown",
     "checksum": "e7c029b6807751c24f8f0211a75c3b1c",
     "grade": false,
     "grade_id": "cell-2386763817338870",
     "locked": true,
     "schema_version": 3,
     "solution": false
    }
   },
   "source": [
    "### Question 2 - stiff equations\n",
    "\n",
    "Consider a simplified radioactive decay chain  that transforms a radioactive nuclide (like $^{235}$U) to a stable nuclide (like $^{207}$Pb) (for the real thing see [this](http://metadata.berkeley.edu/nuclear-forensics/Decay%20Chains.html))\n",
    "\n",
    "$$\n",
    "    u_1 \\overset{K_1}{\\rightarrow} u_2 \\overset{K_2}{\\rightarrow} u_3 \\overset{K_3}{\\rightarrow} u_4\n",
    "$$\n",
    "represented by the system of ODEs\n",
    "\\begin{align*}\n",
    "    \\frac{\\text{d}u_1}{\\text{d}t} &= -K_1 u_1 \\\\\n",
    "    \\frac{\\text{d}u_2}{\\text{d}t} &= K_1 u_1 - K_2 u_2 \\\\\n",
    "    \\frac{\\text{d}u_3}{\\text{d}t} &= K_2 u_2 - K_3 u_3 \\\\\n",
    "    \\frac{\\text{d}u_4}{\\text{d}t} &= K_3 u_3 \\\\\n",
    "\\end{align*}\n",
    "\n",
    "where $\\lambda_i$ are the decay constants for each nuclide (with the standard understanding that the decay constants are reported as $> 0$)"
   ]
  },
  {
   "cell_type": "markdown",
   "metadata": {
    "deletable": false,
    "editable": false,
    "nbgrader": {
     "cell_type": "markdown",
     "checksum": "58d366ccd0b862521bbee0dc6e29d480",
     "grade": false,
     "grade_id": "cell-618793028009wero",
     "locked": true,
     "schema_version": 3,
     "solution": false
    }
   },
   "source": [
    "**(a)** rewrite this problem as a linear dynamical system\n",
    "\n",
    "$$\n",
    "    \\frac{d\\mathbf{u}}{dt} = A\\mathbf{u}\n",
    "$$\n",
    "\n",
    "where \n",
    "\n",
    "$$\n",
    "    \\mathbf{u} = \\begin{bmatrix} u_1 \\\\ u_2 \\\\ u_3 \\\\u_4 \\\\ \\end{bmatrix}\n",
    "$$\n",
    "\n",
    "and $A$ is a matrix of constant coefficients.  Answer the following questions\n",
    "\n",
    "1. what is the structure of the matrix $A$?\n",
    "- what are the eigenvalues of the matrix $A$?\n",
    "- what is the general analytic solution of the initial value problem \n",
    "$$\n",
    "    \\frac{d\\mathbf{u}}{dt} = A\\mathbf{u}\\quad \\mathbf{u}(0) = \\mathbf{u}_0\n",
    "$$\n",
    "for arbitrary initial condition $\\mathbf{u}_0$. **NOTE:** (just assume the eigenvectors exist, you don't need to compute them although they can be written analytically, **extra credit** for the full solution)\n",
    "\n",
    "    "
   ]
  },
  {
   "cell_type": "markdown",
   "metadata": {
    "deletable": false,
    "nbgrader": {
     "cell_type": "markdown",
     "checksum": "f4658119c19ef79927d00d77e7b7d2df",
     "grade": true,
     "grade_id": "cell-d7843759360e55e6",
     "locked": false,
     "points": 12,
     "schema_version": 3,
     "solution": true,
     "task": false
    }
   },
   "source": [
    "YOUR ANSWER HERE"
   ]
  },
  {
   "cell_type": "markdown",
   "metadata": {
    "deletable": false,
    "editable": false,
    "nbgrader": {
     "cell_type": "markdown",
     "checksum": "ee916a11424b8262c2f4fb70ba4d52bf",
     "grade": false,
     "grade_id": "cell-6187930280096695",
     "locked": true,
     "schema_version": 3,
     "solution": false
    }
   },
   "source": [
    "**(a)** [5] Write a general function  `setA(K)`,  to assemble a $N\\times N$ matrix $A$ given an  array of $N-1$ decay constants.\n"
   ]
  },
  {
   "cell_type": "code",
   "execution_count": null,
   "metadata": {
    "deletable": false,
    "nbgrader": {
     "cell_type": "code",
     "checksum": "be6b070c9b4513e05a20429257214c3e",
     "grade": false,
     "grade_id": "cell-8afd6d95f75550ff",
     "locked": false,
     "schema_version": 3,
     "solution": true,
     "task": false
    }
   },
   "outputs": [],
   "source": [
    "def setA(K):\n",
    "    \"\"\" set the Decay Matrix A, given decay constants K_i i=1,N\n",
    "    \n",
    "    Parameters\n",
    "    ----------\n",
    "        K: numpy array of decay constants [ K_1, K_2, ... K_N-1 ]\n",
    "            assumes the final decay constant is 0\n",
    "        \n",
    "    Returns\n",
    "    -------\n",
    "        A: numpy 2d array of size N x N where N = len(K) + 1\n",
    "    \"\"\"\n",
    "    # YOUR CODE HERE\n",
    "    raise NotImplementedError()\n",
    "    return A"
   ]
  },
  {
   "cell_type": "code",
   "execution_count": null,
   "metadata": {
    "deletable": false,
    "editable": false,
    "nbgrader": {
     "cell_type": "code",
     "checksum": "41f278f931918023b04dd96b856522e3",
     "grade": true,
     "grade_id": "cell-d0ac651431987cd9",
     "locked": true,
     "points": 5,
     "schema_version": 3,
     "solution": false,
     "task": false
    }
   },
   "outputs": [],
   "source": [
    "K = numpy.array([ 1.0, 2.0, 3.0 ])\n",
    "# test setA\n",
    "A = setA(K)\n",
    "print('A = \\n{}'.format(A))\n",
    "\n",
    "u_0 = numpy.array([1.0, 0.0, 0.0, 0.0])\n",
    "answer = numpy.array([-1.0, 1.0, 0., 0.])\n",
    "numpy.testing.assert_allclose(A.dot(u_0), answer)\n",
    "print('Passed setA test')"
   ]
  },
  {
   "cell_type": "markdown",
   "metadata": {
    "deletable": false,
    "editable": false,
    "nbgrader": {
     "cell_type": "markdown",
     "checksum": "d7eb18fe03898b148ba1dc32e3b9c8f4",
     "grade": false,
     "grade_id": "cell-2842909c867bac2f",
     "locked": true,
     "schema_version": 3,
     "solution": false,
     "task": false
    }
   },
   "source": [
    "**(b)** Write a function `solve_decay_system` that uses `setA` and `scipy.integrate.solve_ivp` to compute the solution to the system of ODEs given an initial condition and time points to output at.  This function should take in the time points for the output, an initial condition, the ODE integrator to use (default to \"RK45\"), and the reaction rates $K_1$, $K_2$, and $K_3$.\n",
    "You'll want to set `dense_output=True`, for use in part (b)"
   ]
  },
  {
   "cell_type": "code",
   "execution_count": null,
   "metadata": {
    "deletable": false,
    "nbgrader": {
     "cell_type": "code",
     "checksum": "ffc38a8210134129dd79121f2de17413",
     "grade": false,
     "grade_id": "cell-1589080119392644",
     "locked": false,
     "schema_version": 3,
     "solution": true
    }
   },
   "outputs": [],
   "source": [
    "def solve_decay_system(t_span, u_0,  K , method=\"RK45\"):\n",
    "    \"\"\" wrapper function to solve a 4 nuclide decay chain using scipy.integrate.solve_ivp\n",
    "    \n",
    "    parameters:\n",
    "    -----------\n",
    "    t_span: arraylike\n",
    "        time range of integration t_span = [ t_min, t_max]\n",
    "    u_0: ndarray of length 4\n",
    "        numpy array of initial conditions \n",
    "    K: ndarray of length 3\n",
    "    method: String\n",
    "        a string containing one of the integration schemes available in solve_ivp\n",
    "        one of \"RK45\", \"RK23\", \"Radau\", \"BDF\", \"LSODA\"\n",
    "    \"\"\"\n",
    "    # YOUR CODE HERE\n",
    "    raise NotImplementedError()\n",
    "    return sol"
   ]
  },
  {
   "cell_type": "code",
   "execution_count": null,
   "metadata": {
    "deletable": false,
    "editable": false,
    "nbgrader": {
     "cell_type": "code",
     "checksum": "dedb16ffab6f85d69c7fa749656c2cd8",
     "grade": true,
     "grade_id": "cell-6920158174656976",
     "locked": true,
     "points": 5,
     "schema_version": 3,
     "solution": false
    }
   },
   "outputs": [],
   "source": [
    "t_span = numpy.array([0.,1.])\n",
    "sol = solve_decay_system(t_span, u_0, K, method='RK45')\n",
    "t_test = numpy.linspace(0.,1.,10)\n",
    "U_sol = numpy.array([[1.                , 0.8948393163712829, 0.800737401761885 ,\n",
    "        0.7165313047527748, 0.6411802756034415, 0.5737534285773721,\n",
    "        0.5134168033756287, 0.4594256588569134, 0.4111123936333331,\n",
    "        0.3678795370466755],\n",
    "       [0.                , 0.094101921174881 , 0.1595570258526453,\n",
    "        0.2031143245142019, 0.2300709213438262, 0.2445598261804927,\n",
    "        0.2498262704968908, 0.2483567965861113, 0.2420949351732015,\n",
    "        0.2325408759062688],\n",
    "       [0.                , 0.0098958300342681, 0.0317938394434248,\n",
    "        0.0575760898841458, 0.0825409265439265, 0.1042479895430072,\n",
    "        0.1215393110543409, 0.1342463444695756, 0.142589521806582 ,\n",
    "        0.1470100078082271],\n",
    "       [0.                , 0.001162932419568 , 0.0079117329420449,\n",
    "        0.0227782808488774, 0.0462078765088057, 0.077438755699128 ,\n",
    "        0.1152176150731396, 0.1579712000873996, 0.2042031493868833,\n",
    "        0.2525695792388284]])\n",
    "numpy.testing.assert_allclose(sol.sol(t_test), U_sol)\n",
    "print(\"Success!\")"
   ]
  },
  {
   "cell_type": "markdown",
   "metadata": {
    "deletable": false,
    "editable": false,
    "nbgrader": {
     "cell_type": "markdown",
     "checksum": "7e8e86b63e45b05a8d4d6605c56825e5",
     "grade": false,
     "grade_id": "cell-8948857558226856",
     "locked": true,
     "schema_version": 3,
     "solution": false
    }
   },
   "source": [
    "**(b)** [10] Visualize  your solution given the input data provided above and again using the `RK45` integrator. Make four subplots\n",
    "\n",
    "1. Plot the concentrations of the Nuclides against time showing the actual steps taken by the integrator as well as smooth solution from the dense output (hint: see the documentation for [solve_ivp](https://docs.scipy.org/doc/scipy/reference/generated/scipy.integrate.solve_ivp.html) and [this](https://stackoverflow.com/questions/36699155/how-to-get-color-of-most-recent-plotted-line-in-pythons-plt) to match colors.  Do not forget to provide the appropriate labels.\n",
    "- Also plot $\\Delta t(t)$ used by the adaptive time stepper and list the maximum number of steps taken\n",
    "- Which eigenvalue controls stability?  For this eigenvalue, calculate $z=\\lambda \\Delta t$ at each time-step and plot on the stability diagram for Taylor-4 and Taylor-5 (which are equivalent to the stability plots for RK4 and RK5). Which order scheme is controlling the stability?\n",
    "\n"
   ]
  },
  {
   "cell_type": "code",
   "execution_count": null,
   "metadata": {
    "deletable": false,
    "nbgrader": {
     "cell_type": "code",
     "checksum": "137dee58c1bdd7d988efe2d46ced933e",
     "grade": true,
     "grade_id": "cell-6703016954796521",
     "locked": false,
     "points": 8,
     "schema_version": 3,
     "solution": true
    }
   },
   "outputs": [],
   "source": [
    "# YOUR CODE HERE\n",
    "raise NotImplementedError()"
   ]
  },
  {
   "cell_type": "markdown",
   "metadata": {
    "deletable": false,
    "nbgrader": {
     "cell_type": "markdown",
     "checksum": "9114f3d220a53afde0293a9ec241c205",
     "grade": true,
     "grade_id": "cell-e52fc89e33fb8c53",
     "locked": false,
     "points": 2,
     "schema_version": 3,
     "solution": true,
     "task": false
    }
   },
   "source": [
    "YOUR ANSWER HERE"
   ]
  },
  {
   "cell_type": "markdown",
   "metadata": {
    "deletable": false,
    "editable": false,
    "nbgrader": {
     "cell_type": "markdown",
     "checksum": "c4b0fbdcf85d50cfdc23c0bf3383345b",
     "grade": false,
     "grade_id": "cell-dddad26d51ef8761",
     "locked": true,
     "schema_version": 3,
     "solution": false,
     "task": false
    }
   },
   "source": [
    "**(c)** [4] Now let's make this problem stiff by introducing a very fast decaying second nuclide.  repeat the exercise and figures but now using $K_2=1000.$ "
   ]
  },
  {
   "cell_type": "code",
   "execution_count": null,
   "metadata": {
    "deletable": false,
    "nbgrader": {
     "cell_type": "code",
     "checksum": "1fd2d35ed6d9344d1148b28feb9cf8c4",
     "grade": true,
     "grade_id": "cell-67030169547231409",
     "locked": false,
     "points": 2,
     "schema_version": 3,
     "solution": true
    }
   },
   "outputs": [],
   "source": [
    "# YOUR CODE HERE\n",
    "raise NotImplementedError()"
   ]
  },
  {
   "cell_type": "markdown",
   "metadata": {
    "deletable": false,
    "nbgrader": {
     "cell_type": "markdown",
     "checksum": "3b4cfb1ff6790ebe6fed8282e6413925",
     "grade": true,
     "grade_id": "cell-a016af4981e05932",
     "locked": false,
     "points": 2,
     "schema_version": 3,
     "solution": true,
     "task": false
    }
   },
   "source": [
    "YOUR ANSWER HERE"
   ]
  },
  {
   "cell_type": "markdown",
   "metadata": {
    "deletable": false,
    "editable": false,
    "nbgrader": {
     "cell_type": "markdown",
     "checksum": "08ac80f31097f1439708b1069f424a7e",
     "grade": false,
     "grade_id": "cell-1ea1913336bcc8d3",
     "locked": true,
     "schema_version": 3,
     "solution": false,
     "task": false
    }
   },
   "source": [
    "**(d)**  [4] Repeat the stiff problem but choose any method appropriate for stiff equations in `solve_ivp`.  Provide a brief description of how the solver is choosing time steps.  Feel free to try different methods"
   ]
  },
  {
   "cell_type": "code",
   "execution_count": null,
   "metadata": {
    "deletable": false,
    "nbgrader": {
     "cell_type": "code",
     "checksum": "651807c806c9cc75920e3de2c98716fe",
     "grade": true,
     "grade_id": "cell-fa346af4731bd10b",
     "locked": false,
     "points": 2,
     "schema_version": 3,
     "solution": true,
     "task": false
    }
   },
   "outputs": [],
   "source": [
    "# YOUR CODE HERE\n",
    "raise NotImplementedError()"
   ]
  },
  {
   "cell_type": "markdown",
   "metadata": {
    "deletable": false,
    "nbgrader": {
     "cell_type": "markdown",
     "checksum": "f1c8c3ee95ed4b44073ab033fe667805",
     "grade": true,
     "grade_id": "cell-be6c24fd48d0d998",
     "locked": false,
     "points": 2,
     "schema_version": 3,
     "solution": true,
     "task": false
    }
   },
   "source": [
    "YOUR ANSWER HERE"
   ]
  },
  {
   "cell_type": "markdown",
   "metadata": {
    "deletable": false,
    "editable": false,
    "nbgrader": {
     "cell_type": "markdown",
     "checksum": "0cd87b0442f6c4ed944c2f9a6ab54201",
     "grade": false,
     "grade_id": "cell-029df02c1bf00fa9",
     "locked": true,
     "schema_version": 3,
     "solution": false,
     "task": false
    }
   },
   "source": [
    "**(e)** [4] Write a fixed time step BDF-2 scheme to solve this problem.  (hint:  this is a LMM, you'll need to figure out how to get started). you can use numpy.linalg.solve to solve the implicit linear system.  "
   ]
  },
  {
   "cell_type": "code",
   "execution_count": null,
   "metadata": {
    "deletable": false,
    "nbgrader": {
     "cell_type": "code",
     "checksum": "e954f775cdafa3f47eb1567392a51bac",
     "grade": false,
     "grade_id": "cell-2f70a5aa2296e8a2",
     "locked": false,
     "schema_version": 3,
     "solution": true,
     "task": false
    }
   },
   "outputs": [],
   "source": [
    "def BDF2(A, t_span, u_0, N):\n",
    "    \"\"\"\n",
    "    uses a BDF2 scheme to solve the autonomous linear dynamical system u' = Au, u(0) = u_0\n",
    "    with f(U) = Au\n",
    "    \n",
    "         3 U_{n+2} - 4 U_{n+1} + U_n = 2 \\Delta t f(U_{n+2}) \\\\\n",
    "         \n",
    "    Parameters:\n",
    "    -----------\n",
    "    A: ndarray  \n",
    "        m x m matrix of Coefficients such that F(u) = Au where m =len(u0)\n",
    "    t_span: tuple, arraylike\n",
    "        time span over which to integrate [t_min, t_max]\n",
    "    u_0:  ndarray (len(n))\n",
    "        array of initial conditions\n",
    "    N: integer\n",
    "        number of time steps\n",
    "        \n",
    "    Returns:\n",
    "    --------\n",
    "    t: numpy array, \n",
    "        actual time-steps take\n",
    "    u:  ndarray of shape m x N\n",
    "        solution array\n",
    "    \n",
    "    \"\"\"\n",
    "    # YOUR CODE HERE\n",
    "    raise NotImplementedError()"
   ]
  },
  {
   "cell_type": "code",
   "execution_count": null,
   "metadata": {
    "deletable": false,
    "editable": false,
    "nbgrader": {
     "cell_type": "code",
     "checksum": "2501a24de97659968b70b89d6ccf2d88",
     "grade": true,
     "grade_id": "cell-8d49d2fd1c88eb31",
     "locked": true,
     "points": 4,
     "schema_version": 3,
     "solution": false,
     "task": false
    }
   },
   "outputs": [],
   "source": [
    "K = [1., 2., 3.]\n",
    "A = setA(K)\n",
    "N = 100\n",
    "t_span = [0., 10.]\n",
    "u_0 = numpy.array([1., 0., 0., 0.])\n",
    "t, u = BDF2(A, t_span, u_0, N)\n",
    "sol = solve_decay_system(t_span, u_0, K, method='BDF')\n",
    "\n",
    "numpy.testing.assert_allclose(u, sol.sol(t),rtol=10., atol=1.e-3)\n",
    "print('success!')"
   ]
  },
  {
   "cell_type": "markdown",
   "metadata": {
    "deletable": false,
    "editable": false,
    "nbgrader": {
     "cell_type": "markdown",
     "checksum": "b793a8e74af0f47b4585c55eb6ebff0a",
     "grade": false,
     "grade_id": "cell-a6c5d813817ddd7e",
     "locked": true,
     "schema_version": 3,
     "solution": false,
     "task": false
    }
   },
   "source": [
    "**(f)** [10] Graphically compare your solution to solve_ivp. \n",
    "* Make a plot that overlays your solution with that of solve_ivp\n",
    "* Make a convergence plot that calculates the maximum absolute error between your solution and solve_ivp as a function of $\\Delta t$ for $N = 2^n$ for $n\\in[5,13]$.  Comment on the result.\n",
    "* Do this for both \n",
    "$$\n",
    "    K_1 = 1.,~~ K_2 = 2.,~~ K_3 = 3.\n",
    "$$ \n",
    "\n",
    "and the stiff problem with $K_2 = 1000.$"
   ]
  },
  {
   "cell_type": "code",
   "execution_count": null,
   "metadata": {
    "deletable": false,
    "nbgrader": {
     "cell_type": "code",
     "checksum": "4af5b15e25d69a527848b62e31b5638b",
     "grade": true,
     "grade_id": "cell-c07958eb1a9fa145",
     "locked": false,
     "points": 8,
     "schema_version": 3,
     "solution": true,
     "task": false
    },
    "slideshow": {
     "slide_type": ""
    }
   },
   "outputs": [],
   "source": [
    "# YOUR CODE HERE\n",
    "raise NotImplementedError()"
   ]
  },
  {
   "cell_type": "markdown",
   "metadata": {
    "deletable": false,
    "nbgrader": {
     "cell_type": "markdown",
     "checksum": "cb5b5b1cc017ee2dfa6425ee74ea9a01",
     "grade": true,
     "grade_id": "cell-3eae6a700f25ab09",
     "locked": false,
     "points": 2,
     "schema_version": 3,
     "solution": true,
     "task": false
    }
   },
   "source": [
    "YOUR ANSWER HERE"
   ]
  },
  {
   "cell_type": "markdown",
   "metadata": {
    "deletable": false,
    "editable": false,
    "nbgrader": {
     "cell_type": "markdown",
     "checksum": "779b9494cd1949e67852ecf4decf635c",
     "grade": false,
     "grade_id": "cell-d68b21428df24c0d",
     "locked": true,
     "schema_version": 3,
     "solution": false,
     "task": false
    }
   },
   "source": [
    "**Extra-Extra-Credit** write an adaptive time-stepper using a combination of BDF-2 and BDF-3 and compare your solution to solve_ivp (you'll also need to figure out how to use interpolation to adjust the time step).  Full disclosure:  I haven't done this yet but it should be doable"
   ]
  },
  {
   "cell_type": "code",
   "execution_count": null,
   "metadata": {},
   "outputs": [],
   "source": []
  }
 ],
 "metadata": {
  "kernelspec": {
   "display_name": "Python 3",
   "language": "python",
   "name": "python3"
  },
  "language_info": {
   "codemirror_mode": {
    "name": "ipython",
    "version": 2
   },
   "file_extension": ".py",
   "mimetype": "text/x-python",
   "name": "python",
   "nbconvert_exporter": "python",
   "pygments_lexer": "ipython2",
   "version": "2.7.17"
  },
  "latex_envs": {
   "bibliofile": "biblio.bib",
   "cite_by": "apalike",
   "current_citInitial": 1,
   "eqLabelWithNumbers": true,
   "eqNumInitial": 0
  }
 },
 "nbformat": 4,
 "nbformat_minor": 2
}
