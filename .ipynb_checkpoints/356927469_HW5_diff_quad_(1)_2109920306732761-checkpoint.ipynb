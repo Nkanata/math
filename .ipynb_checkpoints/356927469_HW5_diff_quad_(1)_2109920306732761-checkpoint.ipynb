{
 "cells": [
  {
   "cell_type": "markdown",
   "metadata": {},
   "source": [
    "Before you turn this problem in, make sure everything runs as expected. First, **restart the kernel** (in the menubar, select Kernel$\\rightarrow$Restart) and then **run all cells** (in the menubar, select Cell$\\rightarrow$Run All).\n",
    "\n",
    "Make sure you fill in any place that says `YOUR CODE HERE` or \"YOUR ANSWER HERE\", as well as your name and collaborators below:"
   ]
  },
  {
   "cell_type": "code",
   "execution_count": null,
   "metadata": {},
   "outputs": [],
   "source": [
    "NAME = \"\"\n",
    "COLLABORATORS = \"\""
   ]
  },
  {
   "cell_type": "markdown",
   "metadata": {},
   "source": [
    "---"
   ]
  },
  {
   "cell_type": "code",
   "execution_count": 1,
   "metadata": {},
   "outputs": [
    {
     "ename": "ImportError",
     "evalue": "No module named matplotlib",
     "output_type": "error",
     "traceback": [
      "\u001b[0;31m---------------------------------------------------------------------------\u001b[0m",
      "\u001b[0;31mImportError\u001b[0m                               Traceback (most recent call last)",
      "\u001b[0;32m<ipython-input-1-04dbd2dea95d>\u001b[0m in \u001b[0;36m<module>\u001b[0;34m()\u001b[0m\n\u001b[0;32m----> 1\u001b[0;31m \u001b[0mget_ipython\u001b[0m\u001b[0;34m(\u001b[0m\u001b[0;34m)\u001b[0m\u001b[0;34m.\u001b[0m\u001b[0mmagic\u001b[0m\u001b[0;34m(\u001b[0m\u001b[0;34mu'matplotlib inline'\u001b[0m\u001b[0;34m)\u001b[0m\u001b[0;34m\u001b[0m\u001b[0m\n\u001b[0m\u001b[1;32m      2\u001b[0m \u001b[0mget_ipython\u001b[0m\u001b[0;34m(\u001b[0m\u001b[0;34m)\u001b[0m\u001b[0;34m.\u001b[0m\u001b[0mmagic\u001b[0m\u001b[0;34m(\u001b[0m\u001b[0;34mu'precision 16'\u001b[0m\u001b[0;34m)\u001b[0m\u001b[0;34m\u001b[0m\u001b[0m\n\u001b[1;32m      3\u001b[0m \u001b[0;32mimport\u001b[0m \u001b[0mnumpy\u001b[0m\u001b[0;34m\u001b[0m\u001b[0m\n\u001b[1;32m      4\u001b[0m \u001b[0;32mfrom\u001b[0m \u001b[0mscipy\u001b[0m\u001b[0;34m.\u001b[0m\u001b[0mspecial\u001b[0m \u001b[0;32mimport\u001b[0m \u001b[0merf\u001b[0m\u001b[0;34m,\u001b[0m \u001b[0mfresnel\u001b[0m\u001b[0;34m\u001b[0m\u001b[0m\n\u001b[1;32m      5\u001b[0m \u001b[0;32mimport\u001b[0m \u001b[0mmatplotlib\u001b[0m\u001b[0;34m.\u001b[0m\u001b[0mpyplot\u001b[0m \u001b[0;32mas\u001b[0m \u001b[0mplt\u001b[0m\u001b[0;34m\u001b[0m\u001b[0m\n",
      "\u001b[0;32m/usr/lib/python2.7/dist-packages/IPython/core/interactiveshell.pyc\u001b[0m in \u001b[0;36mmagic\u001b[0;34m(self, arg_s)\u001b[0m\n\u001b[1;32m   2158\u001b[0m         \u001b[0mmagic_name\u001b[0m\u001b[0;34m,\u001b[0m \u001b[0m_\u001b[0m\u001b[0;34m,\u001b[0m \u001b[0mmagic_arg_s\u001b[0m \u001b[0;34m=\u001b[0m \u001b[0marg_s\u001b[0m\u001b[0;34m.\u001b[0m\u001b[0mpartition\u001b[0m\u001b[0;34m(\u001b[0m\u001b[0;34m' '\u001b[0m\u001b[0;34m)\u001b[0m\u001b[0;34m\u001b[0m\u001b[0m\n\u001b[1;32m   2159\u001b[0m         \u001b[0mmagic_name\u001b[0m \u001b[0;34m=\u001b[0m \u001b[0mmagic_name\u001b[0m\u001b[0;34m.\u001b[0m\u001b[0mlstrip\u001b[0m\u001b[0;34m(\u001b[0m\u001b[0mprefilter\u001b[0m\u001b[0;34m.\u001b[0m\u001b[0mESC_MAGIC\u001b[0m\u001b[0;34m)\u001b[0m\u001b[0;34m\u001b[0m\u001b[0m\n\u001b[0;32m-> 2160\u001b[0;31m         \u001b[0;32mreturn\u001b[0m \u001b[0mself\u001b[0m\u001b[0;34m.\u001b[0m\u001b[0mrun_line_magic\u001b[0m\u001b[0;34m(\u001b[0m\u001b[0mmagic_name\u001b[0m\u001b[0;34m,\u001b[0m \u001b[0mmagic_arg_s\u001b[0m\u001b[0;34m)\u001b[0m\u001b[0;34m\u001b[0m\u001b[0m\n\u001b[0m\u001b[1;32m   2161\u001b[0m \u001b[0;34m\u001b[0m\u001b[0m\n\u001b[1;32m   2162\u001b[0m     \u001b[0;31m#-------------------------------------------------------------------------\u001b[0m\u001b[0;34m\u001b[0m\u001b[0;34m\u001b[0m\u001b[0m\n",
      "\u001b[0;32m/usr/lib/python2.7/dist-packages/IPython/core/interactiveshell.pyc\u001b[0m in \u001b[0;36mrun_line_magic\u001b[0;34m(self, magic_name, line)\u001b[0m\n\u001b[1;32m   2079\u001b[0m                 \u001b[0mkwargs\u001b[0m\u001b[0;34m[\u001b[0m\u001b[0;34m'local_ns'\u001b[0m\u001b[0;34m]\u001b[0m \u001b[0;34m=\u001b[0m \u001b[0msys\u001b[0m\u001b[0;34m.\u001b[0m\u001b[0m_getframe\u001b[0m\u001b[0;34m(\u001b[0m\u001b[0mstack_depth\u001b[0m\u001b[0;34m)\u001b[0m\u001b[0;34m.\u001b[0m\u001b[0mf_locals\u001b[0m\u001b[0;34m\u001b[0m\u001b[0m\n\u001b[1;32m   2080\u001b[0m             \u001b[0;32mwith\u001b[0m \u001b[0mself\u001b[0m\u001b[0;34m.\u001b[0m\u001b[0mbuiltin_trap\u001b[0m\u001b[0;34m:\u001b[0m\u001b[0;34m\u001b[0m\u001b[0m\n\u001b[0;32m-> 2081\u001b[0;31m                 \u001b[0mresult\u001b[0m \u001b[0;34m=\u001b[0m \u001b[0mfn\u001b[0m\u001b[0;34m(\u001b[0m\u001b[0;34m*\u001b[0m\u001b[0margs\u001b[0m\u001b[0;34m,\u001b[0m\u001b[0;34m**\u001b[0m\u001b[0mkwargs\u001b[0m\u001b[0;34m)\u001b[0m\u001b[0;34m\u001b[0m\u001b[0m\n\u001b[0m\u001b[1;32m   2082\u001b[0m             \u001b[0;32mreturn\u001b[0m \u001b[0mresult\u001b[0m\u001b[0;34m\u001b[0m\u001b[0m\n\u001b[1;32m   2083\u001b[0m \u001b[0;34m\u001b[0m\u001b[0m\n",
      "\u001b[0;32m<decorator-gen-105>\u001b[0m in \u001b[0;36mmatplotlib\u001b[0;34m(self, line)\u001b[0m\n",
      "\u001b[0;32m/usr/lib/python2.7/dist-packages/IPython/core/magic.pyc\u001b[0m in \u001b[0;36m<lambda>\u001b[0;34m(f, *a, **k)\u001b[0m\n\u001b[1;32m    186\u001b[0m     \u001b[0;31m# but it's overkill for just that one bit of state.\u001b[0m\u001b[0;34m\u001b[0m\u001b[0;34m\u001b[0m\u001b[0m\n\u001b[1;32m    187\u001b[0m     \u001b[0;32mdef\u001b[0m \u001b[0mmagic_deco\u001b[0m\u001b[0;34m(\u001b[0m\u001b[0marg\u001b[0m\u001b[0;34m)\u001b[0m\u001b[0;34m:\u001b[0m\u001b[0;34m\u001b[0m\u001b[0m\n\u001b[0;32m--> 188\u001b[0;31m         \u001b[0mcall\u001b[0m \u001b[0;34m=\u001b[0m \u001b[0;32mlambda\u001b[0m \u001b[0mf\u001b[0m\u001b[0;34m,\u001b[0m \u001b[0;34m*\u001b[0m\u001b[0ma\u001b[0m\u001b[0;34m,\u001b[0m \u001b[0;34m**\u001b[0m\u001b[0mk\u001b[0m\u001b[0;34m:\u001b[0m \u001b[0mf\u001b[0m\u001b[0;34m(\u001b[0m\u001b[0;34m*\u001b[0m\u001b[0ma\u001b[0m\u001b[0;34m,\u001b[0m \u001b[0;34m**\u001b[0m\u001b[0mk\u001b[0m\u001b[0;34m)\u001b[0m\u001b[0;34m\u001b[0m\u001b[0m\n\u001b[0m\u001b[1;32m    189\u001b[0m \u001b[0;34m\u001b[0m\u001b[0m\n\u001b[1;32m    190\u001b[0m         \u001b[0;32mif\u001b[0m \u001b[0mcallable\u001b[0m\u001b[0;34m(\u001b[0m\u001b[0marg\u001b[0m\u001b[0;34m)\u001b[0m\u001b[0;34m:\u001b[0m\u001b[0;34m\u001b[0m\u001b[0m\n",
      "\u001b[0;32m/usr/lib/python2.7/dist-packages/IPython/core/magics/pylab.pyc\u001b[0m in \u001b[0;36mmatplotlib\u001b[0;34m(self, line)\u001b[0m\n\u001b[1;32m     98\u001b[0m             \u001b[0;32mprint\u001b[0m\u001b[0;34m(\u001b[0m\u001b[0;34m\"Available matplotlib backends: %s\"\u001b[0m \u001b[0;34m%\u001b[0m \u001b[0mbackends_list\u001b[0m\u001b[0;34m)\u001b[0m\u001b[0;34m\u001b[0m\u001b[0m\n\u001b[1;32m     99\u001b[0m         \u001b[0;32melse\u001b[0m\u001b[0;34m:\u001b[0m\u001b[0;34m\u001b[0m\u001b[0m\n\u001b[0;32m--> 100\u001b[0;31m             \u001b[0mgui\u001b[0m\u001b[0;34m,\u001b[0m \u001b[0mbackend\u001b[0m \u001b[0;34m=\u001b[0m \u001b[0mself\u001b[0m\u001b[0;34m.\u001b[0m\u001b[0mshell\u001b[0m\u001b[0;34m.\u001b[0m\u001b[0menable_matplotlib\u001b[0m\u001b[0;34m(\u001b[0m\u001b[0margs\u001b[0m\u001b[0;34m.\u001b[0m\u001b[0mgui\u001b[0m\u001b[0;34m)\u001b[0m\u001b[0;34m\u001b[0m\u001b[0m\n\u001b[0m\u001b[1;32m    101\u001b[0m             \u001b[0mself\u001b[0m\u001b[0;34m.\u001b[0m\u001b[0m_show_matplotlib_backend\u001b[0m\u001b[0;34m(\u001b[0m\u001b[0margs\u001b[0m\u001b[0;34m.\u001b[0m\u001b[0mgui\u001b[0m\u001b[0;34m,\u001b[0m \u001b[0mbackend\u001b[0m\u001b[0;34m)\u001b[0m\u001b[0;34m\u001b[0m\u001b[0m\n\u001b[1;32m    102\u001b[0m \u001b[0;34m\u001b[0m\u001b[0m\n",
      "\u001b[0;32m/usr/lib/python2.7/dist-packages/IPython/core/interactiveshell.pyc\u001b[0m in \u001b[0;36menable_matplotlib\u001b[0;34m(self, gui)\u001b[0m\n\u001b[1;32m   2952\u001b[0m         \"\"\"\n\u001b[1;32m   2953\u001b[0m         \u001b[0;32mfrom\u001b[0m \u001b[0mIPython\u001b[0m\u001b[0;34m.\u001b[0m\u001b[0mcore\u001b[0m \u001b[0;32mimport\u001b[0m \u001b[0mpylabtools\u001b[0m \u001b[0;32mas\u001b[0m \u001b[0mpt\u001b[0m\u001b[0;34m\u001b[0m\u001b[0m\n\u001b[0;32m-> 2954\u001b[0;31m         \u001b[0mgui\u001b[0m\u001b[0;34m,\u001b[0m \u001b[0mbackend\u001b[0m \u001b[0;34m=\u001b[0m \u001b[0mpt\u001b[0m\u001b[0;34m.\u001b[0m\u001b[0mfind_gui_and_backend\u001b[0m\u001b[0;34m(\u001b[0m\u001b[0mgui\u001b[0m\u001b[0;34m,\u001b[0m \u001b[0mself\u001b[0m\u001b[0;34m.\u001b[0m\u001b[0mpylab_gui_select\u001b[0m\u001b[0;34m)\u001b[0m\u001b[0;34m\u001b[0m\u001b[0m\n\u001b[0m\u001b[1;32m   2955\u001b[0m \u001b[0;34m\u001b[0m\u001b[0m\n\u001b[1;32m   2956\u001b[0m         \u001b[0;32mif\u001b[0m \u001b[0mgui\u001b[0m \u001b[0;34m!=\u001b[0m \u001b[0;34m'inline'\u001b[0m\u001b[0;34m:\u001b[0m\u001b[0;34m\u001b[0m\u001b[0m\n",
      "\u001b[0;32m/usr/lib/python2.7/dist-packages/IPython/core/pylabtools.pyc\u001b[0m in \u001b[0;36mfind_gui_and_backend\u001b[0;34m(gui, gui_select)\u001b[0m\n\u001b[1;32m    277\u001b[0m     \"\"\"\n\u001b[1;32m    278\u001b[0m \u001b[0;34m\u001b[0m\u001b[0m\n\u001b[0;32m--> 279\u001b[0;31m     \u001b[0;32mimport\u001b[0m \u001b[0mmatplotlib\u001b[0m\u001b[0;34m\u001b[0m\u001b[0m\n\u001b[0m\u001b[1;32m    280\u001b[0m \u001b[0;34m\u001b[0m\u001b[0m\n\u001b[1;32m    281\u001b[0m     \u001b[0;32mif\u001b[0m \u001b[0mgui\u001b[0m \u001b[0;32mand\u001b[0m \u001b[0mgui\u001b[0m \u001b[0;34m!=\u001b[0m \u001b[0;34m'auto'\u001b[0m\u001b[0;34m:\u001b[0m\u001b[0;34m\u001b[0m\u001b[0m\n",
      "\u001b[0;31mImportError\u001b[0m: No module named matplotlib"
     ]
    }
   ],
   "source": [
    "%matplotlib inline\n",
    "%precision 16\n",
    "import numpy\n",
    "from scipy.special import erf, fresnel\n",
    "import matplotlib.pyplot as plt"
   ]
  },
  {
   "cell_type": "markdown",
   "metadata": {
    "deletable": false,
    "editable": false,
    "nbgrader": {
     "cell_type": "markdown",
     "checksum": "501a1c819b64d93a63daffcf5dd3d042",
     "grade": false,
     "grade_id": "cell-3336298175051145",
     "locked": true,
     "schema_version": 3,
     "solution": false
    }
   },
   "source": [
    "Before you turn this problem in, make sure everything runs as expected. First, restart the kernel (in the menubar, select Kernel $\\rightarrow$ Restart) and then run all cells (in the menubar, select Cell $\\rightarrow$ Run All).\n",
    "\n",
    "Make sure you fill in any place that says YOUR CODE HERE or \"YOUR ANSWER HERE\", as well as your name and collaborators below:"
   ]
  },
  {
   "cell_type": "markdown",
   "metadata": {
    "deletable": false,
    "editable": false,
    "nbgrader": {
     "cell_type": "markdown",
     "checksum": "fcf3b2b91a8f7b24d4600bfa299d76bf",
     "grade": false,
     "grade_id": "cell-8922434501433849",
     "locked": true,
     "schema_version": 3,
     "solution": false
    }
   },
   "source": [
    "# HW 5:  Numerical Differentiation and Quadrature"
   ]
  },
  {
   "cell_type": "markdown",
   "metadata": {
    "deletable": false,
    "editable": false,
    "nbgrader": {
     "cell_type": "markdown",
     "checksum": "11c4dc7f495597dcf17512a1d25527ed",
     "grade": false,
     "grade_id": "cell-6862f9ce9923e1fc",
     "locked": true,
     "schema_version": 3,
     "solution": false,
     "task": false
    }
   },
   "source": [
    "## Question 1 - Basic  Quadrature Rules\n",
    "\n",
    "The Error Function $\\mathrm{erf}(x)$ is defined by the definite integral\n",
    "\n",
    "$$\n",
    "    \\mathrm{erf}(x) = \\frac{2}{\\pi}\\int_0^x e^{-t^2}dt\n",
    "$$ \n",
    "\n",
    "We will use this function to test and understand the different errors associated with a range of both single interval and extended quadrature rules.  \n",
    "\n",
    "Use the function definitions below to write a set of functions for approximating \n",
    "$$\n",
    " I[f] =  \\int_a^b f(x) dx\n",
    "$$ \n",
    "which we will use for testing against $\\mathrm{erf}(x)$"
   ]
  },
  {
   "cell_type": "markdown",
   "metadata": {
    "deletable": false,
    "editable": false,
    "nbgrader": {
     "cell_type": "markdown",
     "checksum": "7bbd4f1522583961de8457201d6b5b51",
     "grade": false,
     "grade_id": "cell-7394d01b84f7ad21",
     "locked": true,
     "schema_version": 3,
     "solution": false,
     "task": false
    }
   },
   "source": [
    "**(a)** [8] Single step quadrature rules\n",
    "\n",
    "Write short python functions for calculating $I[f]$ for the following newton-Cotes  quadrature rules on a single interval\n",
    "\n",
    "* Left-Rectangle rule\n",
    "* Mid-point rule\n",
    "* Trapezoidal rule\n",
    "* Simpson's Rule"
   ]
  },
  {
   "cell_type": "code",
   "execution_count": null,
   "metadata": {
    "deletable": false,
    "nbgrader": {
     "cell_type": "code",
     "checksum": "9d83aaabf33a18b7fb3ebdc876ac8b3b",
     "grade": false,
     "grade_id": "cell-656f8ecff157e21f",
     "locked": false,
     "schema_version": 3,
     "solution": true,
     "task": false
    }
   },
   "outputs": [],
   "source": [
    "def I_left(f, a, b):\n",
    "    \"\"\" Left rectangle rule\"\"\"\n",
    "    # YOUR CODE HERE\n",
    "    raise NotImplementedError()\n",
    "    \n",
    "def I_midpoint(f, a, b):\n",
    "    \"\"\" Newton-Cotes Midpoint rule\"\"\"\n",
    "    # YOUR CODE HERE\n",
    "    raise NotImplementedError()\n",
    "    \n",
    "def I_trapezoid(f, a, b):\n",
    "    \"\"\" Newton-Cotes Midpoint rule\"\"\"\n",
    "    # YOUR CODE HERE\n",
    "    raise NotImplementedError()\n",
    "    \n",
    "def I_simpson(f, a, b):\n",
    "    \"\"\" Newton-Cotes Simpsons rule\"\"\"\n",
    "    # YOUR CODE HERE\n",
    "    raise NotImplementedError()\n",
    "    "
   ]
  },
  {
   "cell_type": "code",
   "execution_count": null,
   "metadata": {
    "deletable": false,
    "editable": false,
    "nbgrader": {
     "cell_type": "code",
     "checksum": "805dea44cc0dd5b7acaba0f93a994a72",
     "grade": true,
     "grade_id": "cell-c9c5d610957c6e0d",
     "locked": true,
     "points": 8,
     "schema_version": 3,
     "solution": false,
     "task": false
    }
   },
   "outputs": [],
   "source": [
    "# test against erf(1.)\n",
    "\n",
    "x = 1.0\n",
    "I_true = erf(x)\n",
    "print('x = {}, erf(x) = {}\\n'.format(x,I_true))\n",
    "f = lambda x : 2./numpy.sqrt(numpy.pi) * numpy.exp(-x*x)\n",
    "\n",
    "I = numpy.zeros(4)\n",
    "I[0] = I_left(f, 0., x)\n",
    "I[1] = I_midpoint(f, 0., x)\n",
    "I[2] = I_trapezoid(f, 0., x)\n",
    "I[3] = I_simpson(f, 0., x)\n",
    "\n",
    "err = numpy.abs( I - I_true)/numpy.abs(I_true)\n",
    "answer = numpy.array([0.339003328982087,  0.0428168411464673,\n",
    "          0.084202437312641, 0.0004770816600977])\n",
    "numpy.testing.assert_allclose(err, answer)\n",
    "print('success!')"
   ]
  },
  {
   "cell_type": "markdown",
   "metadata": {
    "deletable": false,
    "editable": false,
    "nbgrader": {
     "cell_type": "markdown",
     "checksum": "713031b2a8b6bad3c6dee15b9e7569ae",
     "grade": false,
     "grade_id": "cell-9eb665d0310b8e47",
     "locked": true,
     "schema_version": 3,
     "solution": false,
     "task": false
    }
   },
   "source": [
    "**(b)** [8] Repeat the exercise for  3 point Gauss-Legendre Quadrature\n",
    "\n",
    "* First:  calculates the weights $w_i$, using the method of undetermined coefficients such that the quadrature rule exactly integrates the monomials $1, x, x^2$ over the interval $x\\in[-1,1]$.\n",
    "(hint:  the 3 quadrature points $x_i$ are the roots of \n",
    "\n",
    "$$\n",
    "    P_3(x) = (5x^3 - 3x)/2\n",
    "$$\n",
    "and this rule will exactly integrate polynomials up to order 5)."
   ]
  },
  {
   "cell_type": "markdown",
   "metadata": {
    "deletable": false,
    "nbgrader": {
     "cell_type": "markdown",
     "checksum": "7d826c95d35f6e9677e9e61b584dc3e8",
     "grade": true,
     "grade_id": "cell-07d167d661aa6223",
     "locked": false,
     "points": 4,
     "schema_version": 3,
     "solution": true,
     "task": false
    }
   },
   "source": [
    "YOUR ANSWER HERE"
   ]
  },
  {
   "cell_type": "markdown",
   "metadata": {
    "deletable": false,
    "editable": false,
    "nbgrader": {
     "cell_type": "markdown",
     "checksum": "f10979ca436557f45b2e46aab652d6f6",
     "grade": false,
     "grade_id": "cell-001440f37a3e160d",
     "locked": true,
     "schema_version": 3,
     "solution": false,
     "task": false
    }
   },
   "source": [
    "Next, implement your 3-point GL quadrature scheme to approximate \n",
    "\n",
    "$$\n",
    "    \\int_a^b f(x) dx\n",
    "$$\n",
    "for an arbitrary interval $x\\in [a,b]$ (remember the affine mapping). "
   ]
  },
  {
   "cell_type": "code",
   "execution_count": null,
   "metadata": {
    "deletable": false,
    "nbgrader": {
     "cell_type": "code",
     "checksum": "608e6af5b3a81218a4e96ba9b244f979",
     "grade": false,
     "grade_id": "cell-094691d93b475d66",
     "locked": false,
     "schema_version": 3,
     "solution": true,
     "task": false
    }
   },
   "outputs": [],
   "source": [
    "def I_GL3(f, a, b):\n",
    "    \"\"\" 3 point Gauss-Legendre Quadrature rule\"\"\"\n",
    "    # YOUR CODE HERE\n",
    "    raise NotImplementedError()"
   ]
  },
  {
   "cell_type": "code",
   "execution_count": null,
   "metadata": {
    "deletable": false,
    "editable": false,
    "nbgrader": {
     "cell_type": "code",
     "checksum": "384646a064e7155b9ae1947f77fee12f",
     "grade": true,
     "grade_id": "cell-0a4061efa277bd8e",
     "locked": true,
     "points": 4,
     "schema_version": 3,
     "solution": false,
     "task": false
    }
   },
   "outputs": [],
   "source": [
    "x = 1.0\n",
    "I_true = erf(x)\n",
    "f = lambda x : 2./numpy.sqrt(numpy.pi) * numpy.exp(-x*x)\n",
    "\n",
    "I = I_GL3(f, 0., x)\n",
    "err = numpy.abs( I - I_true)/numpy.abs(I_true)\n",
    "print('x = {}, erf(x) = {}'.format(x,I_true))\n",
    "print('       I_GL3(x) = {}, err={}\\n'.format(I,err))\n",
    "\n",
    "answer = 1.2785635535382798e-05\n",
    "numpy.testing.assert_allclose(err, answer)\n",
    "print('success!')"
   ]
  },
  {
   "cell_type": "markdown",
   "metadata": {},
   "source": [
    "**(c)** [8] Extended Quadrature rules. \n",
    "\n",
    "All of the above rules approximate the integral for a single \"panel\" over the interval $[a,b]$, but can be extended to calculate the quadrature of $N$ panels that subdivide the interval.  \n",
    "\n",
    "Write a function that computes\n",
    "\n",
    "$$\n",
    "    I_N[f] = \\int_a^b f(x) dx = \\sum_{n=1}^N I_{method}[f]_n\n",
    "$$\n",
    "\n",
    "\n",
    "where $I_{method}[f]_n$ is one of the quadrature methods used above. \n",
    "\n",
    "Note, this won't be the most efficient way to implement many of these methods,  but that's not really the issue here."
   ]
  },
  {
   "cell_type": "code",
   "execution_count": null,
   "metadata": {
    "deletable": false,
    "nbgrader": {
     "cell_type": "code",
     "checksum": "3caa4c079bd69f6e6e15f2c59ea1ffb4",
     "grade": false,
     "grade_id": "cell-2773e3774b718b85",
     "locked": false,
     "schema_version": 3,
     "solution": true,
     "task": false
    }
   },
   "outputs": [],
   "source": [
    "def quadN(f, a, b, N, method=I_midpoint):\n",
    "    \"\"\" \n",
    "    integrate a function f over the interval x in [a,b] using \n",
    "    an extended quadrature rule that implements a single interval\n",
    "    quadrature rule over N panels of width (a - b)/N \n",
    "        \n",
    "    Parameters:\n",
    "    -----------\n",
    "        \n",
    "    f:  function f(x) (type real)\n",
    "    a: real\n",
    "        left boundary of interval\n",
    "    b: real\n",
    "        right boundary of interval\n",
    "    N: integer\n",
    "        number of panels to subdivide [a,b]\n",
    "    method:  quadrature function with interface I(f, x0, x1) (real)\n",
    "        returns quadrature approximation for subinterval [x0, x1]\n",
    "        defaults to a midpoint rule\n",
    "            \n",
    "    Returns:\n",
    "    --------\n",
    "    I_N:  extended quadrature approximation of \\int_a^b f(x) dx\n",
    "        \n",
    "    \"\"\"\n",
    "    # YOUR CODE HERE\n",
    "    raise NotImplementedError()\n",
    "    "
   ]
  },
  {
   "cell_type": "code",
   "execution_count": null,
   "metadata": {
    "deletable": false,
    "editable": false,
    "nbgrader": {
     "cell_type": "code",
     "checksum": "b13dd600ef7de18144333d8ac0a0c098",
     "grade": true,
     "grade_id": "cell-1f6027bc9e4241f3",
     "locked": true,
     "points": 4,
     "schema_version": 3,
     "solution": false,
     "task": false
    }
   },
   "outputs": [],
   "source": [
    "# Let's test against erf(1)\n",
    "\n",
    "x = 1.\n",
    "I_true = erf(x)\n",
    "f = lambda x : 2./numpy.sqrt(numpy.pi) * numpy.exp(-x*x)\n",
    "\n",
    "# set the number of panels in a list\n",
    "N = [ 2**n for n in range (5)]\n",
    "\n",
    "# integrate using the extended mid-point scheme and calculate relative errors for each N\n",
    "err = numpy.zeros(len(N))\n",
    "for i,n in enumerate(N):\n",
    "    I = quadN(f, 0., x, n, method=I_midpoint)\n",
    "    err[i] = numpy.abs(I - I_true)/numpy.abs(I_true)\n",
    "    print('N = {}, I = {}, err = {}'.format(n, I, err[i]) )\n",
    "    \n",
    "answer = numpy.array([0.0428168411464673, 0.0104091587540129,\n",
    "                      0.0025749021678512, 0.0006419796806984,\n",
    "                      0.0001603854223201])\n",
    "numpy.testing.assert_allclose(answer,err)\n",
    "print('success!')\n",
    "                    "
   ]
  },
  {
   "cell_type": "markdown",
   "metadata": {},
   "source": [
    "**(d)** [10] Now *write a function* to make a plot that  compares the convergence behavior of all of the above methods (if you make it a function, you will be able to reuse it in the next  problem).\n",
    "\n",
    "This function should  make a beautiful log-log plot showing the convergence behavior of the *relative error* with respect to \n",
    "\n",
    "$$\n",
    "    I_{true} = \\mathrm{erf}(1) = 0.8427007929497148\n",
    "$$\n",
    "\n",
    "for all the different quadrature rules for \n",
    "\n",
    "$$\n",
    "    N = 2^n \\quad \\text{panels}\\quad \\text{for}\\, n=0,1,\\ldots,10\n",
    "$$\n",
    "\n",
    "remember to label all the curves with the methods.\n",
    "\n",
    "Hint 1: there are some nice python tricks for doing this relatively efficiently, e.g. you can loop over a list of methods and extract the name with \n",
    "\n",
    "`name = method.__name__`\n",
    "\n",
    "\n",
    "**Extra Credit** the rate of convergence of any scheme can be written as\n",
    "\n",
    "$$\n",
    "    |e| = C\\Delta x^p\n",
    "$$\n",
    "\n",
    "For each method calculate $C$ and $p$ and plot the best fit straight-line in $\\log(\\Delta x)-\\log(e)$ space (hint: `numpy.polyfit` is your friend). "
   ]
  },
  {
   "cell_type": "code",
   "execution_count": null,
   "metadata": {
    "deletable": false,
    "nbgrader": {
     "cell_type": "code",
     "checksum": "7c671abfa500fc1dacee7f86cc6553c1",
     "grade": false,
     "grade_id": "cell-4660d6ac4039cdea",
     "locked": false,
     "schema_version": 3,
     "solution": true,
     "task": false
    }
   },
   "outputs": [],
   "source": [
    "def plot_quad_convergence(f, a, b, N, I_true, title=None):\n",
    "    \"\"\" create a convergence log-log plot that plots relative error of \n",
    "    various extended quadrature schemes vs panel spacing dx\n",
    "    \n",
    "    If really fancy, also calculates the best fit straight line in log-log space to estimate convergence\n",
    "    parameters\n",
    "    \n",
    "    Parameters:\n",
    "    -----------\n",
    "        \n",
    "    f:  function f(x) (type real)\n",
    "    a: real\n",
    "        left boundary of interval\n",
    "    b: real\n",
    "        right boundary of interval\n",
    "    N: List of integers \n",
    "        number of panels to subdivide [a,b]\n",
    "    I_true:  real\n",
    "        True solution to compute errors\n",
    "    title:  string\n",
    "        title of plot (if not None)\n",
    "            \n",
    "    Returns:\n",
    "    --------\n",
    "    Nothing but generates a pretty log-log plot all properly labeled\n",
    "    \n",
    "    \"\"\"\n",
    "    # YOUR CODE HERE\n",
    "    raise NotImplementedError()\n",
    "    "
   ]
  },
  {
   "cell_type": "code",
   "execution_count": null,
   "metadata": {
    "deletable": false,
    "editable": false,
    "nbgrader": {
     "cell_type": "code",
     "checksum": "fcf225a54de7ce5c4d5c480d050c14e9",
     "grade": true,
     "grade_id": "cell-4660d6ac40234983",
     "locked": true,
     "points": 10,
     "schema_version": 3,
     "solution": false,
     "task": false
    }
   },
   "outputs": [],
   "source": [
    "#Let's test with erf(1) and a lot of points\n",
    "\n",
    "x = 1.\n",
    "I_true = erf(x)\n",
    "f = lambda x : 2./numpy.sqrt(numpy.pi) * numpy.exp(-x*x)    \n",
    "\n",
    "N = [ 2**n for n in range (11)]\n",
    "\n",
    "plot_quad_convergence(f, 0., 1., N, I_true, 'erf(1.)')"
   ]
  },
  {
   "cell_type": "markdown",
   "metadata": {
    "deletable": false,
    "editable": false,
    "nbgrader": {
     "cell_type": "markdown",
     "checksum": "7f29373a9532025bf4d3caa2d3650f7f",
     "grade": false,
     "grade_id": "cell-afe493064c8d3820",
     "locked": true,
     "schema_version": 3,
     "solution": false,
     "task": false
    }
   },
   "source": [
    "**(e)** [3] Estimate the number of function evaluations required to get a relative error $e \\approx 10^{-7}$ i.e. about 7 digits of precision for the schemes\n",
    "\n",
    "* Mid-point\n",
    "* Simpson's\n",
    "* 3-Pt GL quadrature\n"
   ]
  },
  {
   "cell_type": "markdown",
   "metadata": {
    "deletable": false,
    "nbgrader": {
     "cell_type": "markdown",
     "checksum": "6ac87dd21ab641341de4d3787e28ad44",
     "grade": true,
     "grade_id": "cell-8625e6a922cd3352",
     "locked": false,
     "points": 3,
     "schema_version": 3,
     "solution": true,
     "task": false
    }
   },
   "source": [
    "YOUR ANSWER HERE"
   ]
  },
  {
   "cell_type": "markdown",
   "metadata": {
    "deletable": false,
    "editable": false,
    "nbgrader": {
     "cell_type": "markdown",
     "checksum": "873062154e7804823aa04f2506934094",
     "grade": false,
     "grade_id": "cell-7913098871853593",
     "locked": true,
     "schema_version": 3,
     "solution": false
    }
   },
   "source": [
    "## Question 2\n",
    "\n",
    "Let's repeat the problem with a harder integral.\n",
    "\n",
    "Consider the scaled Fresnel integrals\n",
    "\n",
    "$$I_c = \\int^1_0 \\frac{\\cos x}{\\sqrt{x}} dx~~~~\\text{and}~~~~I_s = \\int^1_0 \\frac{\\sin x}{\\sqrt{x}} dx$$\n",
    "\n",
    "which have values\n",
    "\n",
    "$$I_c = \\sqrt{2 \\pi} \\cdot C\\left(\\sqrt{\\frac{2}{\\pi}}\\right) \\approx 1.8090484758005438$$\n",
    "\n",
    "$$I_s = \\sqrt{2 \\pi} \\cdot S\\left(\\sqrt{\\frac{2}{\\pi}}\\right) \\approx 0.62053660344676231$$\n",
    "\n",
    "where the functions $C(x)$ and $S(x)$ can be evaluated by `scipy.special.fresnel`.\n"
   ]
  },
  {
   "cell_type": "markdown",
   "metadata": {
    "deletable": false,
    "editable": false,
    "nbgrader": {
     "cell_type": "markdown",
     "checksum": "222f7d5236736b8a0776cb02ca1df5b4",
     "grade": false,
     "grade_id": "cell-8ebcf647bbb397eb",
     "locked": true,
     "schema_version": 3,
     "solution": false
    }
   },
   "source": [
    "**(a)** [2] Where do you imagine the problematic points of the integrals will be?"
   ]
  },
  {
   "cell_type": "markdown",
   "metadata": {
    "deletable": false,
    "nbgrader": {
     "cell_type": "markdown",
     "checksum": "43f6c40a1d1510407671a7fd52b23b89",
     "grade": true,
     "grade_id": "cell-52b455a70eeda752",
     "locked": false,
     "points": 2,
     "schema_version": 3,
     "solution": true
    }
   },
   "source": [
    "YOUR ANSWER HERE"
   ]
  },
  {
   "cell_type": "markdown",
   "metadata": {
    "deletable": false,
    "editable": false,
    "nbgrader": {
     "cell_type": "markdown",
     "checksum": "90b26b9a2d890e91ad20980c2f8d454d",
     "grade": false,
     "grade_id": "cell-1280863455188854",
     "locked": true,
     "schema_version": 3,
     "solution": false
    }
   },
   "source": [
    "**(b)** [4] Use your convergence plotting routine to make  2 plots showing convergence behavior for all the extended quadrature rules for $I_c$ and $I_s$ "
   ]
  },
  {
   "cell_type": "code",
   "execution_count": null,
   "metadata": {
    "deletable": false,
    "editable": false,
    "nbgrader": {
     "cell_type": "code",
     "checksum": "7ebf34615245a87bea24a1c1ba31976d",
     "grade": false,
     "grade_id": "cell-b8c9ff40cd5c59c5",
     "locked": true,
     "schema_version": 3,
     "solution": false,
     "task": false
    }
   },
   "outputs": [],
   "source": [
    "# Set the True solutions for reference\n",
    "Is_true, Ic_true = fresnel(numpy.sqrt(2.0 / numpy.pi))\n",
    "Is_true *= numpy.sqrt(2.0 * numpy.pi)\n",
    "Ic_true *= numpy.sqrt(2.0 * numpy.pi)"
   ]
  },
  {
   "cell_type": "code",
   "execution_count": null,
   "metadata": {
    "deletable": false,
    "nbgrader": {
     "cell_type": "code",
     "checksum": "e0d01a567f26eec13643ac678addf4b8",
     "grade": true,
     "grade_id": "cell-4769111180699037",
     "locked": false,
     "points": 4,
     "schema_version": 3,
     "solution": true,
     "task": false
    }
   },
   "outputs": [],
   "source": [
    "# YOUR CODE HERE\n",
    "raise NotImplementedError()"
   ]
  },
  {
   "cell_type": "markdown",
   "metadata": {
    "deletable": false,
    "editable": false,
    "nbgrader": {
     "cell_type": "markdown",
     "checksum": "8f2038ab50a4c886d293dedb1a869c07",
     "grade": false,
     "grade_id": "cell-9da6810b250515c1",
     "locked": true,
     "schema_version": 3,
     "solution": false,
     "task": false
    }
   },
   "source": [
    "**(c)**  [4] Explain the results of your plots"
   ]
  },
  {
   "cell_type": "markdown",
   "metadata": {
    "deletable": false,
    "nbgrader": {
     "cell_type": "markdown",
     "checksum": "a757dade2565bc279dd29509dc7f7175",
     "grade": true,
     "grade_id": "cell-63c5719c37c551a7",
     "locked": false,
     "points": 4,
     "schema_version": 3,
     "solution": true,
     "task": false
    }
   },
   "source": [
    "YOUR ANSWER HERE"
   ]
  },
  {
   "cell_type": "markdown",
   "metadata": {
    "deletable": false,
    "editable": false,
    "nbgrader": {
     "cell_type": "markdown",
     "checksum": "f34fc6440d2bf6c705a7f05f1851b890",
     "grade": false,
     "grade_id": "cell-4978686228436492",
     "locked": true,
     "schema_version": 3,
     "solution": false
    }
   },
   "source": [
    "**(d)** [4] show that the convergence and the quadrature schemes can be dramatically improved simply by tranforming the variable $x$ with $x=t^2$\n",
    "\n",
    "1. Show analytically what the transformed integral should be\n",
    "2. produce two more plots demonstrating convergence behaviour\n",
    "3. comment on the results"
   ]
  },
  {
   "cell_type": "markdown",
   "metadata": {
    "deletable": false,
    "nbgrader": {
     "cell_type": "markdown",
     "checksum": "35864666b5625c7e749afeac806160eb",
     "grade": true,
     "grade_id": "cell-497868628436492",
     "locked": false,
     "points": 4,
     "schema_version": 3,
     "solution": true
    }
   },
   "source": [
    "YOUR ANSWER HERE"
   ]
  },
  {
   "cell_type": "code",
   "execution_count": null,
   "metadata": {
    "deletable": false,
    "nbgrader": {
     "cell_type": "code",
     "checksum": "a8dbac5be031598051fa0c34127ecd6f",
     "grade": true,
     "grade_id": "cell-eb376330eaf94f20",
     "locked": false,
     "points": 2,
     "schema_version": 3,
     "solution": true,
     "task": false
    }
   },
   "outputs": [],
   "source": [
    "# YOUR CODE HERE\n",
    "raise NotImplementedError()"
   ]
  },
  {
   "cell_type": "markdown",
   "metadata": {
    "deletable": false,
    "nbgrader": {
     "cell_type": "markdown",
     "checksum": "6ce23a474c27cd96722f8c415b9bc5d4",
     "grade": true,
     "grade_id": "cell-7860584774817940",
     "locked": false,
     "points": 2,
     "schema_version": 3,
     "solution": true
    }
   },
   "source": [
    "YOUR ANSWER HERE"
   ]
  },
  {
   "cell_type": "markdown",
   "metadata": {
    "deletable": false,
    "editable": false,
    "nbgrader": {
     "cell_type": "markdown",
     "checksum": "8ff3a571b95813b0d047e77d2037d05a",
     "grade": false,
     "grade_id": "cell-3224734890563854",
     "locked": true,
     "schema_version": 3,
     "solution": false
    }
   },
   "source": [
    "## Question 3\n",
    "\n",
    "We can often reformulate finite difference approximations as matrix-vector products.  For the following problem, assume that the data considered are equispaced points $(x_i, y_i)$, i.e. $\\Delta x$ is uniform.  \n",
    "\n",
    "Here we will construct a matrix   $D$  such that multiplying a vector of $\\mathbf{y}$ values would lead to a second order approximation of the First derivative for the given data. \n",
    "\n",
    "In other words for  $y_i = f(x_i)$\n",
    "\n",
    "$$\n",
    "f'(x) \\approx D\\mathbf{y}\n",
    "$$"
   ]
  },
  {
   "cell_type": "markdown",
   "metadata": {
    "deletable": false,
    "editable": false,
    "nbgrader": {
     "cell_type": "markdown",
     "checksum": "1743cfa3a244b89aab30f1e8702fe2e0",
     "grade": false,
     "grade_id": "cell-5c735e9080300d72",
     "locked": true,
     "schema_version": 3,
     "solution": false
    }
   },
   "source": [
    "**(a)** [8] Derive the forward, centered and  backward second order finite difference approximations to the first derivative using the method of your choice.\n",
    "\n",
    "I.e. given 3 equispaced points $x_i, x_{i+1}, x_{i+2}$  calculate the consistent 2nd order, *1st derivative* operator evaluated at each point.  \n",
    "\n",
    "* hint 1:  consider the interpolating polynomial $P_2(x)$ through those 3 points and calculate $P'_2(x)$ at each point.\n",
    "* hint 2:  the method of undetermined coefficients on Taylor's series can be useful here as well\n",
    "\n",
    "**Extra Credit**: Find the consistent 2nd order *2nd derivative* evaluated at each point"
   ]
  },
  {
   "cell_type": "markdown",
   "metadata": {
    "deletable": false,
    "nbgrader": {
     "cell_type": "markdown",
     "checksum": "87bcfa8c438a47431963124416ad954f",
     "grade": true,
     "grade_id": "cell-88d2d6f7dba4237d",
     "locked": false,
     "points": 8,
     "schema_version": 3,
     "solution": true
    }
   },
   "source": [
    "YOUR ANSWER HERE"
   ]
  },
  {
   "cell_type": "markdown",
   "metadata": {
    "deletable": false,
    "editable": false,
    "nbgrader": {
     "cell_type": "markdown",
     "checksum": "ea21c54117d48517420295aefbcf2c1f",
     "grade": false,
     "grade_id": "cell-7885120873385504",
     "locked": true,
     "schema_version": 3,
     "solution": false
    }
   },
   "source": [
    "**(b)** [4] Now consider an equispaced set of points  $y_i = f(x_i)$, can you describe the structure of a consistent 2nd order, first derivative matrix $D$,  such that \n",
    "\n",
    "$$\n",
    "    f'(x) \\approx D\\mathbf{y}\n",
    "$$\n",
    "\n",
    "returns the consistent 1st derivative at every point (including the end points)"
   ]
  },
  {
   "cell_type": "markdown",
   "metadata": {
    "deletable": false,
    "nbgrader": {
     "cell_type": "markdown",
     "checksum": "615db92a0cea0a438f8d1bcb1b304b11",
     "grade": true,
     "grade_id": "cell-2125755949784286",
     "locked": false,
     "points": 4,
     "schema_version": 3,
     "solution": true
    }
   },
   "source": [
    "YOUR ANSWER HERE"
   ]
  },
  {
   "cell_type": "markdown",
   "metadata": {
    "deletable": false,
    "editable": false,
    "nbgrader": {
     "cell_type": "markdown",
     "checksum": "a1fcf4e790d7edff124196d5ff1f924a",
     "grade": false,
     "grade_id": "cell-8815784455777695",
     "locked": true,
     "schema_version": 3,
     "solution": false
    }
   },
   "source": [
    "**(c)** [8] Write a function that takes in the number of data points $N$ and returns the matrix $D$ (which is a 2-D numpy array of size $N\\times N$).  Here assume we are on the interval $[-1, 1]$.  Note that inside your function \n",
    "$$\n",
    "    \\Delta x = \\frac{2}{N - 1}\n",
    "$$\n",
    "to match the `linspace` command.\n",
    "\n",
    "Beyond being convenient (once you construct the matrix you can apply it to any set of data) this operation is much faster than using loops.  *Hint:* The command `numpy.diag` may be extremely helpful."
   ]
  },
  {
   "cell_type": "code",
   "execution_count": null,
   "metadata": {
    "deletable": false,
    "nbgrader": {
     "cell_type": "code",
     "checksum": "08cef2157f573181b72e409343a13c87",
     "grade": false,
     "grade_id": "cell-5516025382221234",
     "locked": false,
     "schema_version": 3,
     "solution": true
    }
   },
   "outputs": [],
   "source": [
    "def diff_matrix(N):\n",
    "    # YOUR CODE HERE\n",
    "    raise NotImplementedError()\n",
    "    \n",
    "    return D"
   ]
  },
  {
   "cell_type": "code",
   "execution_count": null,
   "metadata": {
    "deletable": false,
    "editable": false,
    "nbgrader": {
     "cell_type": "code",
     "checksum": "e47e1ac514c76269a81c12e251c90091",
     "grade": true,
     "grade_id": "cell-7511846809958937",
     "locked": true,
     "points": 8,
     "schema_version": 3,
     "solution": false
    }
   },
   "outputs": [],
   "source": [
    "# Let's test this using f(x) = exp(2.*x) and 100 points\n",
    "\n",
    "N = 100\n",
    "x = numpy.linspace(-1, 1, N)\n",
    "y = numpy.exp(2.0 * x)\n",
    "y_prime = 2.*numpy.exp(2. * x)\n",
    "\n",
    "numpy.testing.assert_allclose(numpy.dot(diff_matrix(N), y), y_prime, rtol=1e-2)\n",
    "print(\"Success!\")"
   ]
  },
  {
   "cell_type": "markdown",
   "metadata": {
    "deletable": false,
    "editable": false,
    "nbgrader": {
     "cell_type": "markdown",
     "checksum": "ef47381570cceaa86b0fc67e2628c6b1",
     "grade": false,
     "grade_id": "cell-1283048126092389",
     "locked": true,
     "schema_version": 3,
     "solution": false
    }
   },
   "source": [
    "**(c)** [4] Suppose we knew the *first derivative* of a function $f(x)$ at a discrete set of points and wanted to solve for the discrete function itself.  i.e.  ideally given $D$ and vector $\\mathbf{y} = f'(\\mathbf{x})$,  we would like to be able to solve the linear algebra problem\n",
    "\n",
    "$$\n",
    "    D\\mathbf{f} = \\mathbf{y}\n",
    "$$\n",
    "\n",
    "for $\\mathbf{f}\\approx f(\\bf{x})$.  Discuss any issues we might have with this approach."
   ]
  },
  {
   "cell_type": "markdown",
   "metadata": {
    "deletable": false,
    "nbgrader": {
     "cell_type": "markdown",
     "checksum": "4796062ad226b5075c548c9202ba07fe",
     "grade": true,
     "grade_id": "cell-3816704844311840",
     "locked": false,
     "points": 4,
     "schema_version": 3,
     "solution": true
    }
   },
   "source": [
    "YOUR ANSWER HERE"
   ]
  }
 ],
 "metadata": {
  "kernelspec": {
   "display_name": "Python 3",
   "language": "python",
   "name": "python3"
  },
  "language_info": {
   "codemirror_mode": {
    "name": "ipython",
    "version": 2
   },
   "file_extension": ".py",
   "mimetype": "text/x-python",
   "name": "python",
   "nbconvert_exporter": "python",
   "pygments_lexer": "ipython2",
   "version": "2.7.17"
  }
 },
 "nbformat": 4,
 "nbformat_minor": 1
}
